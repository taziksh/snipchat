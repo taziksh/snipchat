{
 "metadata": {
  "language_info": {
   "codemirror_mode": {
    "name": "ipython",
    "version": 3
   },
   "file_extension": ".py",
   "mimetype": "text/x-python",
   "name": "python",
   "nbconvert_exporter": "python",
   "pygments_lexer": "ipython3",
   "version": "3.9.1-final"
  },
  "orig_nbformat": 2,
  "kernelspec": {
   "name": "python3",
   "display_name": "Python 3",
   "language": "python"
  }
 },
 "nbformat": 4,
 "nbformat_minor": 2,
 "cells": [
  {
   "cell_type": "code",
   "execution_count": 30,
   "metadata": {},
   "outputs": [
    {
     "output_type": "execute_result",
     "data": {
      "text/plain": [
       "'yt'"
      ]
     },
     "metadata": {},
     "execution_count": 30
    }
   ],
   "source": [
    "from abc import ABC, abstractmethod \n",
    "\n",
    "class Search(ABC):\n",
    "\n",
    "    @abstractmethod\n",
    "    def search(self, input):\n",
    "        pass\n",
    "\n",
    "class SpotifySearch(Search):\n",
    "    def search(self, phrase):\n",
    "        return phrase\n",
    "\n",
    "class YouTubeSearch(Search):\n",
    "    def search(self, track):\n",
    "        return track\n",
    "\n",
    "ss = SpotifySearch()\n",
    "ss.search('sp')\n",
    "\n",
    "ys = YouTubeSearch()\n",
    "ys.search('yt')"
   ]
  },
  {
   "cell_type": "code",
   "execution_count": null,
   "metadata": {},
   "outputs": [],
   "source": []
  }
 ]
}