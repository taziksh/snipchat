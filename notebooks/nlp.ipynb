{
 "metadata": {
  "language_info": {
   "codemirror_mode": {
    "name": "ipython",
    "version": 3
   },
   "file_extension": ".py",
   "mimetype": "text/x-python",
   "name": "python",
   "nbconvert_exporter": "python",
   "pygments_lexer": "ipython3",
   "version": "3.9.1-final"
  },
  "orig_nbformat": 2,
  "kernelspec": {
   "name": "python3",
   "display_name": "Python 3",
   "language": "python"
  }
 },
 "nbformat": 4,
 "nbformat_minor": 2,
 "cells": [
  {
   "cell_type": "code",
   "execution_count": 79,
   "metadata": {},
   "outputs": [],
   "source": [
    "from azapi import AZlyrics\n",
    "\n",
    "az = AZlyrics('google')\n",
    "\n",
    "def download(title):\n",
    "    az.title = title\n",
    "    lyrics = az.getLyrics()\n",
    "    return (lyrics)\n",
    "\n",
    "lyrics = ....\n",
    "substring = \"close the door on your way out\"\n",
    "\n",
    "import re\n",
    "# TODO: worth removing speaker names for musicals?\n",
    "\n",
    "def cleaned(string):\n",
    "    return re.sub('[,.]', '', string).lower()\n",
    "    #return string.lower().replace(',', '').replace('.','').strip()\n",
    "\n"
   ]
  },
  {
   "cell_type": "code",
   "execution_count": 4,
   "metadata": {},
   "outputs": [],
   "source": [
    "import pkg_resources\n",
    "from symspellpy import SymSpell, Verbosity\n",
    "\n",
    "sym_spell = SymSpell(max_dictionary_edit_distance=2, prefix_length=7)\n",
    "dictionary_path = pkg_resources.resource_filename(\n",
    "    \"symspellpy\", \"frequency_dictionary_en_82_765.txt\")\n",
    "\n",
    "sym_spell.load_dictionary(dictionary_path, term_index=0, count_index=1)\n",
    "\n",
    "def corrected(input_term):\n",
    "    suggestions = sym_spell.lookup(input_term, Verbosity.CLOSEST, max_edit_distance=2)\n",
    "    if suggestions:\n",
    "        return suggestions[0].__dict__['_term']\n"
   ]
  },
  {
   "cell_type": "code",
   "execution_count": 52,
   "metadata": {},
   "outputs": [],
   "source": [
    "import nltk\n",
    "\n",
    "from functools import lru_cache\n",
    "from itertools import product as iterprod\n",
    "\n",
    "try:\n",
    "    arpabet = nltk.corpus.cmudict.dict()\n",
    "except LookupError:\n",
    "    nltk.download('cmudict')\n",
    "    arpabet = nltk.corpus.cmudict.dict()\n",
    "\n",
    "#TODO: #notworth? only block i don't know\n",
    "'''\n",
    "@lru_cache()\n",
    "def recursed(s):\n",
    "    if s in arpabet:\n",
    "        return arpabet[s]\n",
    "    middle = len(s)/2\n",
    "    partition = sorted(list(range(len(s))), key=lambda x: (x-middle)**2-x)\n",
    "    for i in partition:\n",
    "        pre, suf = (s[:i], s[i:])\n",
    "        if pre in arpabet and recursed(suf) is not None:\n",
    "            #TODO: memoize unknown words\n",
    "            return [x+y for x,y in iterprod(arpabet[pre], recursed(suf))]\n",
    "    #TODO: fix None problems. Got lucky on Colab..?\n",
    "    return None\n",
    "'''\n",
    "\n",
    "def phonemesOf(s):\n",
    "    s = s.lower()\n",
    "    if s not in arpabet:\n",
    "        s = corrected(s)\n",
    "    '''\n",
    "    if s not in arpabet:\n",
    "        s = recursed(s)\n",
    "    '''\n",
    "    return arpabet[s][0]\n"
   ]
  },
  {
   "cell_type": "code",
   "execution_count": 80,
   "metadata": {},
   "outputs": [
    {
     "output_type": "stream",
     "name": "stdout",
     "text": [
      "{'lyrics': 'B R IH1 T IH0 SH AE1 D M ER0 AH0 L HH AW1 EH1 S G AA1 T T R UW1 P S AA1 N DH AH0 W AO1 T ER0 TH ER1 D IY0 T UW1 TH AW1 Z AH0 N D T R UW1 P S IH0 N N UW1 Y AO1 R K HH AA1 R B ER0 TH ER1 D IY0 T UW1 TH AW1 Z AH0 N D T R UW1 P S IH0 N N UW1 Y AO1 R K HH AA1 R B ER0 TH ER1 D IY0 T UW1 TH AW1 Z AH0 N D T R UW1 P S IH0 N N UW1 Y AO1 R K HH AA1 R B ER0 W EH1 N DH EY1 S ER0 AW1 N D AW1 ER0 T R UW1 P S DH EY1 S ER0 AW1 N D AW1 ER0 T R UW1 P S W EH1 N DH EY1 S ER0 AW1 N D AW1 ER0 T R UW1 P S AE1 Z AH0 K IH1 D IH0 N DH AH0 K ER0 IH1 B IY0 AH0 N AY1 W IH1 SH T F AO1 R AH0 W AO1 R AY1 N UW1 DH AE1 T AY1 W AA1 Z P UH1 R AY1 N UW1 IH1 T W AA1 Z DH AH0 OW1 N L IY0 W EY1 T UW1 R AY1 Z AH1 P IH1 F DH EY1 T EH1 L M AY1 S T AO1 R IY0 AY1 AE1 M IY1 DH ER0 G AA1 N AH0 D AY1 AA1 N DH AH0 B AE1 T AH0 L F IY2 L D IH0 N G L AO1 R IY0 AO1 R R AY1 Z AH1 P AY1 W IH1 L F AY1 T F AO1 R DH IH1 S L AE1 N D B AH1 T DH EH1 R Z OW1 N L IY0 W AH1 N M AE1 N HH UW1 K AE1 N G IH1 V AH1 S AH0 K AH0 M AE1 N D S OW1 W IY1 K AE1 N R AY1 Z AH1 P AH2 N D ER0 S T AE1 N D IH1 T S DH AH0 OW1 N L IY0 W EY1 T UW1 R AY1 Z AH1 P R AY1 Z AH1 P HH IY1 R HH IY1 K AH1 M Z HH IY1 R K AH1 M Z DH AH0 JH EH1 N ER0 AH0 L L EY1 D IY0 Z AH0 N D JH EH1 N T AH0 L M IH0 N HH IY1 R K AH1 M Z DH AH0 JH EH1 N ER0 AH0 L DH AH0 M OW1 M AH0 N T Y UW1 V IY1 B IH1 N W EY1 T IH0 NG F AO1 R HH IY1 R K AH1 M Z DH AH0 JH EH1 N ER0 AH0 L DH AH0 P R AY1 D AH1 V M AW1 N T V ER1 N AH0 N HH IY1 R K AH1 M Z DH AH0 JH EH1 N ER0 AH0 L JH AO1 R JH W AA1 SH IH0 NG T AH0 N W IY1 AA1 R AW1 T G AH2 N D W AH1 T AW2 T M AE1 N D W AH1 T AW2 T N AH1 M B ER0 D AW1 T P L AE1 N D B AH1 K B AH1 K B AH1 K B AH1 K B AH1 K W IY1 G AA1 T AH0 M EY1 K AE1 N AO1 L AW1 T S T AE1 N D EY1 OW0 AY1 M G AA1 N AH0 N IY1 D AH0 R AY1 T HH AE1 N D M AE1 N B AH1 K B AH1 K B AH1 K B AH1 K B AH1 K CH EH1 K IH1 T K AE1 N AY1 B IY1 R IY1 L AH0 S EH1 K AH0 N D F AO1 R JH AH1 S T AH0 M IH1 L IH0 S EH2 K AH0 N D L EH1 T D AW1 N M AY1 G AA1 R D AH0 N D T EH1 L DH AH0 P IY1 P AH0 L HH AW1 AY1 F IY1 L AH0 S EH1 K AH0 N D N AW1 AY1 EH1 M DH AH0 M AA1 D AH0 L AH1 V AH0 M AA1 D ER0 N M EY1 JH ER0 JH EH1 N ER0 AH0 L DH AH0 V EH1 N ER0 EY2 T IH0 D V ER0 JH IH1 N Y AH0 N V EH1 T ER0 AH0 N HH UW1 Z M EH1 N AA1 R AO1 L L AY1 N IH0 NG AH1 P T UW1 P UH1 T M IY1 AH1 P AA1 N AH0 P EH1 D AH0 S T AH0 L R AY1 T IH0 NG L EH1 T ER0 Z T UW1 R EH1 L AH0 T IH0 V Z EH0 M B EH1 L IH0 SH IH0 NG M AY1 EH1 L AH0 G AH0 N S AH0 N D EH1 L AH0 K W AH0 N S B AH1 T DH AH0 EH1 L AH0 F AH0 N T IH1 Z IH0 N DH AH0 R UW1 M DH AH0 T R UW1 TH IH1 Z IH0 N Y AA1 F EY1 S W EH1 N Y AA1 HH IY1 R DH AH0 B R IH1 T IH0 SH K AE1 N AH0 N Z G OW1 B UW1 M EH1 N IY0 HH OW1 P AH1 V S AH0 K S EH1 S IH1 Z F L IY1 T IH0 NG HH AW1 K AE1 N AY1 K IY1 P L IY1 D IH0 NG W EH1 N DH AH0 P IY1 P AH0 L AY1 EH1 M L IY1 D IH0 NG K IY1 P R IY0 T R IY1 T IH0 NG W IY1 P UH1 T AH0 S T AA1 P T UW1 DH AH0 B L IY1 D IH0 NG AE1 Z DH AH0 B R IH1 T IH0 SH T EY1 K B R UH1 K L AH0 N N AY1 T T EY1 K S R UH1 K B AH1 T L UH1 K W IY1 AA1 R AW1 T G AH2 N D W AH1 T AW2 T M AE1 N D W AH1 T AW2 T N AH1 M B ER0 D AW1 T P L AE1 N D B AH1 K B AH1 K B AH1 K B AH1 K B AH1 K W IY1 G AA1 T AH0 M EY1 K AE1 N AO1 L AW1 T S T AE1 N D EY1 OW0 AY1 EH1 M G AA1 N AH0 N IY1 D AH0 R AY1 T HH AE1 N D M AE1 N B AH1 K B AH1 K B AH1 K B AH1 K B AH1 K IH1 N K AH2 M IH0 NG DH EY1 R EY1 B AE1 T ER0 IH0 NG D AW1 N DH AH0 B AE1 T ER0 IY0 CH EH1 K DH AH0 D AE1 M AH0 JH AH0 Z R AA1 W IY1 G AA1 T AH0 S T AA1 P EH1 M AH0 N D R AA1 B EH1 M AH1 V DH EH1 R AE0 D V AE1 N T IH0 JH IH0 Z R AA1 L EH1 T S T EY1 K AH0 S T AE1 N D W IH1 DH DH AH0 S T AE1 M AH0 N AH0 G AA1 D HH AE1 Z G R AE1 N T AH0 D AH1 S HH AE1 M AH0 L T AH0 N W OW1 N T AH0 B AE1 N D AH0 N SH IH1 P Y OW1 L EH1 T S S T IY1 L DH EH1 R K AE1 N AH0 N Z SH B UW1 M B UW1 M G OW1 Z DH AH0 K AE1 N AH0 N W AA1 CH DH AH0 B L AH1 D AH0 N D DH AH0 SH IH1 T S P R EY1 AH0 N D B UW1 M G OW1 Z DH AH0 K AE1 N AH0 N W IY1 R AH0 B AE1 N D AH0 N IH0 NG K IY1 P S B EY1 AH0 N D B UW1 M DH EH1 R EH1 S AH0 N AH1 DH ER0 SH IH1 P AH0 N D B UW1 M W IY1 JH AH1 S T L AO1 S T DH AH0 S AH1 DH ER0 N T IH1 P AH0 N D B UW1 M W IY1 G AA1 T AH0 R AH1 N T UW1 HH AA1 R L AH0 M K W IH1 K W IY1 K AE1 N T AH0 F AO1 R D AH0 N AH1 DH ER0 S L IH1 P G AH1 N Z AH0 N D HH AO1 R S AH0 Z G IH1 D IY0 AH1 P AY1 D IH0 S AY1 D T UW1 D IH1 V IY0 AH1 P M AY1 F AO1 R S IH0 Z DH EY1 R EY1 S K IH1 T IH0 SH AE1 Z DH AH0 B R IH1 T IH0 SH K AH1 T DH AH0 S IH1 T IY0 AH1 P DH IH1 S K L OW1 S T UW1 G IH1 V IH0 NG AH1 P F EY1 S IH0 NG M AE1 D S K R UW1 T AH0 N IY0 AY1 S K R IY1 M IH0 N DH AH0 F EY1 S AH1 V DH IH1 S M AE1 S M Y UW1 T AH0 N IY0 AA1 R DH IY1 Z DH AH0 M EH1 N W IH1 DH W IH1 CH AY1 AE1 M T UW1 D IH0 F EH1 N D AH0 M EH1 R AH0 K AH0 W IY1 R AY1 D AE1 T M IH1 D N AY2 T M AE0 N HH AE1 T AH0 N IH0 N DH AH0 D IH1 S T AH0 N S AY1 K AE1 N AA0 T B IY1 EH1 V R IY0 W EH2 R AE1 T W AH1 N S P IY1 P AH0 L AY1 EH1 M IH0 N D AY1 R N IY1 D AH1 V AH0 S IH1 S T AH0 N S Y AO1 R EH1 K S L EH1 N S IY0 S ER1 HH UW1 AA1 R Y UW1 EH1 R AH0 N B ER1 S ER1 P ER0 M IH1 SH AH0 N T UW1 S T EY1 T M AY1 K EY1 S AE1 Z Y UW1 W ER0 S ER1 AY1 W AA1 Z AH0 K AE1 P T AH0 N AH1 N D ER0 JH EH1 N ER0 AH0 L M AA0 N T G AH1 M R IY0 AH0 N T IH1 L HH IY1 K AA1 T AH0 B UH1 L AH0 T IH0 N DH AH0 N EH1 K IH0 N K W AH0 B EH1 K AH0 N D W EH1 L IH0 N S AH1 M ER0 IY0 AY1 TH IH1 NG K DH AE1 T AY1 K UH1 D B IY1 AH1 V S AH1 M AH0 S IH1 S T AH0 N S AY1 AE0 D M AY1 R HH AW1 Y UW1 K IY1 P F AY1 R IH0 NG AA1 N DH AH0 B R IH1 T IH0 SH F R AH1 M AH0 D IH1 S T AH0 N S HH AH1 AY1 HH AE1 V S AH1 M K W EH1 S CH AH0 N Z AH0 K AH1 P AH0 L AH1 V S AH0 G JH EH1 S CH AH0 N Z AA1 N HH AW1 T UW1 F AY1 T IH0 N S T EH1 D AH1 V F L IY1 IH0 NG W EH1 S T Y EH1 S W EH1 L Y AO1 R EH1 K S L EH1 N S IY0 Y UW1 W AA1 N T AH0 D T UW1 S IY1 M IY1 HH AE1 M AH0 L T AH0 N K AH1 M IH0 N HH AE1 V Y UW1 M EH1 T B ER1 Y EH1 S S ER1 W IY1 K IY1 P M IY1 T IH0 NG AE1 Z AY1 W AA1 Z S EY1 IH0 NG S ER1 AY1 L UH1 K F AO1 R W ER0 D T UW1 S IY1 IH0 NG Y AO1 R S T R AE1 T AH0 JH IY0 P L EY1 AW1 T B ER1 S ER1 K L OW1 S DH AH0 D AO1 R AA1 N Y AO1 R W EY1 AW1 T HH AE1 V AY1 D AH1 N S AH1 M TH IH0 NG R AO1 NG S ER1 AA1 N DH AH0 K AA1 N T R EH0 R IY0 AY1 K AO1 L D Y UW1 HH IY1 R B IH0 K AO1 Z AW1 ER0 AA1 D Z AA1 R B IH0 AA1 N D S K EH1 R IY0 Y AO1 R R EH2 P Y AH0 T EY1 SH AH0 N P R IH0 S IY1 D Z Y UW1 B AH1 T AY1 HH AE1 V T UW1 L AE1 F S ER1 HH AE1 M AH0 L T AH0 N HH AW1 K AH1 M N OW1 W AH1 N K AE1 N G EH1 T Y UW1 AA1 N DH EH1 R S T AE1 F S ER1 D AA1 N T IY1 G EH1 T M IY1 R AO1 NG Y UW1 R EY1 AH0 Y AH1 NG M AE1 N AH1 V G R EY1 T R IH0 N AW1 N AY1 N OW1 Y UW1 S T OW1 L B R IH1 T IH0 SH K AE1 N AH0 N Z W EH1 N W IY1 W ER0 S T IH1 L D AW1 N T AW1 N N AH0 TH AE1 N Y AH0 L G R IY1 N AH0 N D HH EH1 N R IY0 N AA1 K S W AA1 N T AH0 D T UW1 HH AY1 ER0 Y UW1 T UW1 B IY1 DH EH1 R S EH1 K R AH0 T EH2 R IY0 AY1 D OW1 N T TH IH1 NG K S OW1 AH0 N D W AY1 AA1 R Y UW1 AH0 P S EH1 T AY1 M N AA1 T IH1 T S AO2 L R AY1 T Y UW1 W AA1 N T T UW1 F AY1 T Y UW1 V IY1 G AA1 T AH0 HH AH1 NG G ER0 AY1 W AA1 Z JH AH1 S T L AY1 K Y UW1 W EH1 N AY1 W AA1 Z Y AH1 NG G ER0 HH EH1 D F UH1 L AH1 V F AE1 N T AH0 S IY0 Z AH1 V D AY1 IH0 NG L AY1 K AH0 M AA1 R T ER0 Y EH1 S D AY1 IH0 NG IH1 Z IY1 Z IY0 Y AH1 NG M AE1 N L IH1 V IH0 NG IH1 Z HH AA1 R D ER0 W AY1 AA1 R Y UW1 T EH1 L IH0 NG M IY1 DH IH1 S AY1 M B IY1 IH0 NG AA1 N AH0 S T AY1 M W ER1 K IH0 NG W IH1 DH AH0 TH ER1 D AH1 V W AH1 T AW1 ER0 K AA1 NG G R AH0 S HH AE1 Z P R AA1 M AH0 S T W IY1 AA1 R AH0 P AW1 D ER0 K EH1 G AH0 B AW1 T T UW1 IH0 K S P L OW1 D AY1 N IY1 D S AH1 M W AH2 N L AY1 K Y UW1 T UW1 L AY1 T AH0 N DH AH0 L OW1 D S OW1 AY1 AE1 M N AA1 T TH R OW1 IH0 NG AH0 W EY1 M AY1 SH AA1 T AY1 AE1 M N AA1 T TH R OW1 IH0 NG AH0 W EY1 M AY1 SH AA1 T Y OW1 AY1 EH1 M JH AH1 S T L AY1 K M AY1 K AH1 N T R IY0 AY1 M Y AH1 NG S K R AE1 P IY0 AH0 N D HH AH1 NG G R IY0 AY1 AE1 M N AA1 T TH R OW1 IH0 NG AH0 W EY1 M AY1 SH AA1 T S AH1 N W IY1 AA1 R AW1 T G AH2 N D AW2 T M AE1 N D Y UW1 N IY1 D AO1 L DH AH0 HH EH1 L P Y UW1 K AE1 N G EH1 T AY1 HH AE1 V S AH1 M F R EH1 N D Z L AO1 R AH0 N Z M AH1 L IH0 G AH0 N M AA2 R K IY1 D IY1 L AA2 F IY0 EH1 T OW2 K EY1 W AH1 T EH1 L S AW2 T N AH1 M B ER0 D AW1 T P L AE1 N D W IY1 L N IY1 D S AH1 M S P AY1 Z AA1 N DH AH0 IH0 N S AY1 D S AH1 M K IH1 NG Z M EH1 N HH UW1 M AY1 T L EH1 T S AH1 M TH IH1 NG Z S L AY1 D B UW1 M AY1 W IH1 L R AY1 T T UW1 K AA1 NG G R AH0 S AH0 N D T EH1 L EH1 M W IY1 N IY1 D S AH0 P L AY1 Z Y UW1 R AE1 L IY0 DH AH0 G AY1 Z W OW1 W OW1 W OW1 M AE1 S T ER0 DH AH0 EH1 L AH0 M AH0 N T AH1 V S ER0 P R AY1 Z B UW1 M AY1 W IH1 L R AY1 Z AH0 B AH1 V M AY1 S T EY1 SH AH0 N AO1 R G AH0 N AY2 Z Y AO1 R IH2 N F ER0 M EY1 SH AH0 N T IH1 L W IY1 R AY1 Z T UW1 DH AH0 AH0 K EY1 ZH AH0 N AH1 V AW1 ER0 N UW1 N EY1 SH AH0 N S ER1 W OW1 W OW1 W OW1 HH IY1 R K AH1 M Z DH AH0 JH EH1 N ER0 AH0 L R AY1 Z AH1 P W AH1 T HH IY1 R K AH1 M Z DH AH0 JH EH1 N ER0 AH0 L R AY1 Z AH1 P W AH1 T HH IY1 R K AH1 M Z DH AH0 JH EH1 N ER0 AH0 L R AY1 Z AH1 P W AH1 T HH IY1 R K AH1 M Z DH AH0 JH EH1 N ER0 AH0 L W AH1 T AH0 N D HH IH1 Z R AY1 T HH AE1 N D M AE1 N B UW1 M', 'substring': 'K L OW1 S DH AH0 D AO1 R AA1 N Y AO1 R W EY1 AW1 T'}\n"
     ]
    }
   ],
   "source": [
    "lyrics = cleaned(lyrics)\n",
    "substring = cleaned(substring)\n",
    "\n",
    "phonemes = {}\n",
    "phonemes['lyrics'] = []\n",
    "phonemes['substring'] = []\n",
    "\n",
    "#TODO: https://stackoverflow.com/questions/952914/how-to-make-a-flat-list-out-of-list-of-lists\n",
    "#FLATTENED 1D list\n",
    "for word in lyrics.split():\n",
    "    phonemes['lyrics'].extend(phonemesOf(word))\n",
    "for word in substring.split():\n",
    "    phonemes['substring'].extend(phonemesOf(word))\n",
    "\n",
    "#LIST -> COMMA SEPARATED STRING\n",
    "phonemes['lyrics']= ', '.join(phonemes['lyrics']).replace(', ', ' ')\n",
    "phonemes['substring']= ', '.join(phonemes['substring']).replace(', ', ' ')\n",
    "\n",
    "\n",
    "print(phonemes)\n",
    "\n"
   ]
  },
  {
   "cell_type": "code",
   "execution_count": 86,
   "metadata": {},
   "outputs": [
    {
     "output_type": "stream",
     "name": "stdout",
     "text": [
      "5985 6034\n"
     ]
    }
   ],
   "source": [
    "first = phonemes['lyrics'].index(phonemes['substring'])\n",
    "last = first + len(phonemes['substring']) - 1\n",
    "print(first, last)\n",
    "\n",
    "startAt = (first * duration) / len(phonemes['lyrics']) * 1000;\n",
    "endAt  "
   ]
  },
  {
   "cell_type": "code",
   "execution_count": 84,
   "metadata": {},
   "outputs": [
    {
     "output_type": "stream",
     "name": "stdout",
     "text": [
      "50\n"
     ]
    }
   ],
   "source": [
    "from pydub import AudioSegment\n",
    "\n",
    "song = AudioSegment.from_mp3(path)\n",
    "clip = audio[startAt:endAt]\n",
    "clip.export('./foo.mp3', format='mp3')"
   ]
  }
 ]
}